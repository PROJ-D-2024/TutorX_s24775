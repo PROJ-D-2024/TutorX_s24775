{
 "cells": [
  {
   "cell_type": "markdown",
   "metadata": {},
   "source": [
    "First we need to load the dataset and needed libraries, along with setting only the records responding to the small version available"
   ]
  },
  {
   "cell_type": "code",
   "execution_count": null,
   "metadata": {},
   "outputs": [],
   "source": [
    "import pandas as pd \n",
    "import numpy as np\n",
    "\n",
    "df = pd.read_csv('../../data/filtered_tracks.csv')\n",
    "print(df.head())"
   ]
  },
  {
   "cell_type": "code",
   "execution_count": null,
   "metadata": {},
   "outputs": [],
   "source": [
    "def count_classes(array):\n",
    "    dict_clasess={}\n",
    "\n",
    "    for row in  array:\n",
    "        str_row=str(row)\n",
    "        if str_row in dict_clasess:\n",
    "            dict_clasess[str_row]=dict_clasess[str_row]+1\n",
    "        else:\n",
    "            dict_clasess[str_row]=1\n",
    "    return dict_clasess\n",
    "\n",
    "def create_dataset(metadane=\"../../data/\",input_dataset=\"../../data/tracks.csv\",audio_folder=\"../../data/fma_small\",n_classes=10,num_ele_per_class=1500):\n",
    "    genres=metadane+\"genres.csv\"\n",
    "    genres=pd.read_csv(genres)\n",
    "    all_tracks=pd.read_csv(input_dataset)\n",
    "    labels=all_tracks.values\n",
    "    label_genre_top=np.where(labels[0,:]==\"genre_top\")\n",
    "    label_genres=np.where(labels[0,:]==\"genres\")\n",
    "    label_genres_all=np.where(labels[0,:]==\"genres_all\")\n",
    "    label_subset=np.where(labels[0,:]==\"subset\")\n",
    "    label_id=np.where(labels[0,:]==\"id\")\n",
    "    label_bit_rate=np.where(labels[0,:]==\"bit_rate\")\n",
    "\n",
    "    all_id=labels[2:, 0]\n",
    "    all_label_subset=labels[2:,label_subset[0][0]]\n",
    "    all_genre_top=labels[2:,label_genre_top[0][0]]\n",
    "    all_genres=labels[2:,label_genres[0][0]]\n",
    "    all_genres_all=labels[2:,label_genres_all[0][0]]\n",
    "    number=6\n",
    "    path_array=[]\n",
    "    folder_path=audio_folder\n",
    "    for id in all_id:\n",
    "        id_len=len(str(id))\n",
    "        formatted_id=str(id)\n",
    "        if id_len!=number:\n",
    "            formatted_id=str(id).zfill(number)\n",
    "        st=formatted_id[0:3:1]\n",
    "        sub_folder_path=\"\\\\\"+st+\"\\\\\"+formatted_id+\".mp3\"\n",
    "        mp3_path=folder_path+sub_folder_path\n",
    "        path_array.append(mp3_path)\n",
    "    songs=pd.DataFrame({\n",
    "    \"genre_top\":all_genre_top,\n",
    "    \"genres\":all_genres,\n",
    "    \"genres_all\":all_genres_all,\n",
    "    \"subset\":all_label_subset,\n",
    "    \"id\":all_id,\n",
    "    'path':path_array\n",
    "    })\n",
    "    return songs\n",
    "\n",
    "df = create_dataset()\n",
    "print(df.size)\n",
    "print(df.head())"
   ]
  },
  {
   "cell_type": "code",
   "execution_count": null,
   "metadata": {},
   "outputs": [],
   "source": [
    "genre_counts = df['genre_top'].value_counts()\n",
    "sufficient_genres = genre_counts[genre_counts >= 1200].index\n",
    "\n",
    "balanced_df = df[df['genres'].isin(sufficient_genres)].groupby('genre_top')\n",
    "print(balanced_df.head())"
   ]
  },
  {
   "cell_type": "markdown",
   "metadata": {},
   "source": [
    "# Preparation\n",
    "\n",
    "To prepare the .csv file for the script responsible for creating the spectrograms you sould run this code:"
   ]
  },
  {
   "cell_type": "code",
   "execution_count": null,
   "metadata": {},
   "outputs": [],
   "source": [
    "df['genres'] = df['genres'].replace('Old-Time / Historic', 'Old-Time')\n",
    "\n",
    "df['audioPath'] = df['audioPath'].where(df['subset'].ne('small'), df['audioPath'].replace('fma_medium', 'fma_small', regex=True))\n",
    "\n",
    "df['audioPath'] = '..\\\\..\\\\data\\\\' + df['audioPath']\n",
    "df['spectrogramPath'] = '..\\\\..\\\\data\\\\spectrograms\\\\' + df['genres'] + '\\\\' + df['id'].astype('str') + '.png'\n",
    "df = df[df.genres != 'Easy Listening']\n",
    "genreList = '..\\\\..\\\\data\\\\spectrograms\\\\' + df['genres'].unique()\n",
    "\n",
    "df.to_csv('..\\\\..\\\\data\\\\tracks_cleaned_upg.csv', index=False)"
   ]
  },
  {
   "cell_type": "markdown",
   "metadata": {},
   "source": [
    "# Spectrogram .csv\n",
    "\n",
    "This script will edit the previously created one, to allow us to process the spectrograms"
   ]
  },
  {
   "cell_type": "code",
   "execution_count": null,
   "metadata": {},
   "outputs": [],
   "source": [
    "import os\n",
    "df = pd.read_csv('..\\\\..\\\\data\\\\tracks_cleaned_upg.csv')\n",
    "df = df[df.subset == 'small']\n",
    "df = df.drop(['num_genres', 'subset', 'listens', 'favorites', 'audioPath'], axis=1)\n",
    "df = df.drop(df[~df['spectrogramPath'].apply(os.path.exists)].index)\n",
    "print(df)\n",
    "df.reset_index()\n",
    "# print(df)\n",
    "df.to_csv('..\\\\..\\\\data\\\\spectrograms.csv', index=False)"
   ]
  },
  {
   "cell_type": "code",
   "execution_count": null,
   "metadata": {},
   "outputs": [],
   "source": []
  }
 ],
 "metadata": {
  "kernelspec": {
   "display_name": "Python 3",
   "language": "python",
   "name": "python3"
  },
  "language_info": {
   "codemirror_mode": {
    "name": "ipython",
    "version": 3
   },
   "file_extension": ".py",
   "mimetype": "text/x-python",
   "name": "python",
   "nbconvert_exporter": "python",
   "pygments_lexer": "ipython3",
   "version": "3.12.2"
  }
 },
 "nbformat": 4,
 "nbformat_minor": 2
}
