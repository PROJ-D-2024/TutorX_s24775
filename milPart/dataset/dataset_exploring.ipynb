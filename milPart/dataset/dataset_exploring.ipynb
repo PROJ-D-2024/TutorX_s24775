{
 "cells": [
  {
   "cell_type": "code",
   "execution_count": 9,
   "metadata": {},
   "outputs": [],
   "source": [
    "import pandas as pd\n",
    "import numpy as np"
   ]
  },
  {
   "cell_type": "markdown",
   "metadata": {},
   "source": [
    "# Constructing the dataframe"
   ]
  },
  {
   "cell_type": "code",
   "execution_count": null,
   "metadata": {},
   "outputs": [],
   "source": [
    "all_tracks=pd.read_csv(\"../../data/tracks.csv\")"
   ]
  },
  {
   "cell_type": "code",
   "execution_count": 11,
   "metadata": {},
   "outputs": [],
   "source": [
    "labels=all_tracks.values\n",
    "label_genre_top=np.where(labels[0,:]==\"genre_top\")\n",
    "label_genres=np.where(labels[0,:]==\"genres\")\n",
    "label_genres_all=np.where(labels[0,:]==\"genres_all\")\n",
    "label_subset=np.where(labels[0,:]==\"subset\")\n",
    "label_id=np.where(labels[0,:]==\"id\")\n",
    "label_bit_rate=np.where(labels[0,:]==\"bit_rate\")\n",
    "\n",
    "\n",
    "all_id=labels[2:, 0]\n",
    "all_label_subset=labels[2:,label_subset[0][0]]\n",
    "all_genre_top=labels[2:,label_genre_top[0][0]]\n",
    "all_genres=labels[2:,label_genres[0][0]]\n",
    "all_genres_all=labels[2:,label_genres_all[0][0]]\n",
    "all_bit_rate=labels[2:,label_bit_rate[0][0]]"
   ]
  },
  {
   "cell_type": "code",
   "execution_count": null,
   "metadata": {},
   "outputs": [],
   "source": [
    "print(\"all_genre_top\", set(all_genre_top))"
   ]
  },
  {
   "cell_type": "code",
   "execution_count": 13,
   "metadata": {},
   "outputs": [],
   "source": [
    "number=6\n",
    "path_array=[]\n",
    "folder_path=\"..\\\\..\\\\data\\\\fma_large\"\n",
    "for id in all_id:\n",
    "    id_len=len(str(id))\n",
    "    formatted_id=str(id)\n",
    "    if id_len!=number:\n",
    "        formatted_id=str(id).zfill(number)\n",
    "    st=formatted_id[0:3:1]\n",
    "    sub_folder_path=\"\\\\\"+st+\"\\\\\"+formatted_id+\".mp3\"\n",
    "    mp3_path=folder_path+sub_folder_path\n",
    "    path_array.append(mp3_path)"
   ]
  },
  {
   "cell_type": "code",
   "execution_count": 14,
   "metadata": {},
   "outputs": [],
   "source": [
    "songs=pd.DataFrame({\n",
    "    \"id\":all_id,\n",
    "    \"genre\":all_genre_top,\n",
    "    \"genres\":all_genres,\n",
    "    \"subset\":all_label_subset,\n",
    "    'bit_rate': all_bit_rate,\n",
    "    'path':path_array\n",
    "})"
   ]
  },
  {
   "cell_type": "markdown",
   "metadata": {},
   "source": [
    "# Filling in the missing Genre"
   ]
  },
  {
   "cell_type": "code",
   "execution_count": null,
   "metadata": {},
   "outputs": [],
   "source": [
    "def get_biggest_genre(genres: list, genreData: pd.DataFrame) -> str:\n",
    "    max_popularity = 0\n",
    "    max_genre = \"\"\n",
    "    for genre in genres:\n",
    "        genre_popularity = genreData[genreData[\"genre_id\"] == int(genre)][\"#tracks\"].values[0]\n",
    "        genre_name = genreData[genreData[\"genre_id\"] == int(genre)][\"title\"].values[0]\n",
    "        if genre_popularity > max_popularity:\n",
    "            max_popularity = genre_popularity\n",
    "            max_genre = genre_name\n",
    "    \n",
    "    return max_genre\n",
    "\n",
    "genreList = pd.read_csv(\"../../data/genres.csv\")\n",
    "\n",
    "wrong_songs=[]\n",
    "for i, row in songs.iterrows():\n",
    "    if pd.isna(row[\"genre\"]):\n",
    "        if(row[\"genres\"] == \"[]\"):\n",
    "            row[\"genre\"] = \"Unknown\"\n",
    "        else:\n",
    "            row[\"genre\"] = get_biggest_genre(\n",
    "                [int(x) for x in row[\"genres\"].strip('[]').split(',')]\n",
    "                , genreList)\n",
    "        wrong_songs.append(row)\n",
    "\n",
    "print(\"Number of wrong songs:\", len(wrong_songs))\n",
    "print(pd.DataFrame(wrong_songs).value_counts(\"genre\"))"
   ]
  },
  {
   "cell_type": "markdown",
   "metadata": {},
   "source": [
    "# Clearing rows with no genre"
   ]
  },
  {
   "cell_type": "code",
   "execution_count": null,
   "metadata": {},
   "outputs": [],
   "source": [
    "df_songs = songs.dropna(subset=[\"genre\"])\n",
    "print(df_songs.head())\n",
    "print(df_songs[\"genre\"].value_counts()) "
   ]
  },
  {
   "cell_type": "markdown",
   "metadata": {},
   "source": [
    "# Filtering and balancing the data"
   ]
  },
  {
   "cell_type": "code",
   "execution_count": null,
   "metadata": {},
   "outputs": [],
   "source": [
    "fit_amount = 100\n",
    "\n",
    "fitting_genres = [key for key, count in df_songs[\"genre\"].value_counts().items() if count >= fit_amount]\n",
    "print(fitting_genres)"
   ]
  },
  {
   "cell_type": "code",
   "execution_count": 10,
   "metadata": {},
   "outputs": [],
   "source": [
    "df_songs = df_songs[df_songs[\"genre\"].isin(fitting_genres)]"
   ]
  },
  {
   "cell_type": "code",
   "execution_count": null,
   "metadata": {},
   "outputs": [],
   "source": [
    "print(df_songs[\"genre\"].value_counts())"
   ]
  },
  {
   "cell_type": "code",
   "execution_count": null,
   "metadata": {},
   "outputs": [],
   "source": [
    "# Group by genre and sample 2000 rows from each genre\n",
    "df_songs_balanced = df_songs.groupby('genre').apply(lambda x: x.sample(fit_amount)).reset_index(drop=True)\n",
    "\n",
    "print(df_songs_balanced[\"genre\"].value_counts())"
   ]
  },
  {
   "cell_type": "markdown",
   "metadata": {},
   "source": [
    "# Dropping unambigous genres"
   ]
  },
  {
   "cell_type": "code",
   "execution_count": null,
   "metadata": {},
   "outputs": [],
   "source": [
    "df_songs_balanced = df_songs_balanced[~df_songs_balanced[\"genre\"].isin([\"Pop\", \"Experimental\"])]\n",
    "print(df_songs_balanced[\"genre\"].value_counts())"
   ]
  },
  {
   "cell_type": "code",
   "execution_count": null,
   "metadata": {},
   "outputs": [],
   "source": [
    "print(df_songs_balanced)\n",
    "df_songs_balanced.to_csv(\"..\\\\..\\\\data\\\\tracks_1k_uncleaned.csv\", index=False)"
   ]
  },
  {
   "cell_type": "markdown",
   "metadata": {},
   "source": [
    "# Cutting large subset"
   ]
  },
  {
   "cell_type": "code",
   "execution_count": 104,
   "metadata": {},
   "outputs": [],
   "source": [
    "df_songs_medium = df_songs[df_songs[\"subset\"].isin([\"small\", \"medium\", \"large\"])]"
   ]
  },
  {
   "cell_type": "markdown",
   "metadata": {},
   "source": []
  }
 ],
 "metadata": {
  "kernelspec": {
   "display_name": "Python 3",
   "language": "python",
   "name": "python3"
  },
  "language_info": {
   "codemirror_mode": {
    "name": "ipython",
    "version": 3
   },
   "file_extension": ".py",
   "mimetype": "text/x-python",
   "name": "python",
   "nbconvert_exporter": "python",
   "pygments_lexer": "ipython3",
   "version": "3.12.2"
  }
 },
 "nbformat": 4,
 "nbformat_minor": 2
}
